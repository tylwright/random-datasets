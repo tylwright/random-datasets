{
 "cells": [
  {
   "cell_type": "code",
   "execution_count": 145,
   "id": "0fdafa1f-e74b-44cb-a451-859dff9eebbb",
   "metadata": {},
   "outputs": [
    {
     "name": "stdout",
     "output_type": "stream",
     "text": [
      "['{\\n', '    \"operator\": {\\n', '        \"name\": \"Federation\"{\\n', '            \"classes\": [\\n', '                {\\n', '                    \"name\": \"Akira\"\\n', '                },\\n', '                {\\n', '                    \"name\": \"Ambassador\",\\n', '                    \"type\": \"Heavy Cruiser\"\\n', '                },\\n', '                {\\n', '                    \"name\": \"Angelou\"\\n', '                },\\n', '                {\\n', '                    \"name\": \"Antares\"\\n', '                },\\n', '                {\\n', '                    \"name\": \"Apollo\"\\n', '                },\\n', '                {\\n', '                    \"name\": \"Armstrong\"\\n', '                },\\n', '                {\\n', '                    \"name\": \"Bradbury\"\\n', '                },\\n', '                {\\n', '                    \"name\": \"Cardenas\"\\n', '                },\\n', '                {\\n', '                    \"name\": \"California\",\\n', '                    \"type\": \"Support\"\\n', '                },\\n', '                {\\n', '                    \"name\": \"Centaur\",\\n', '                    \"type\": \"Destroyer\"\\n', '                },\\n', '                {\\n', '                    \"name\": \"Challenger\"\\n', '                },\\n', '                {\\n', '                    \"name\": \"Cheyenne\"\\n', '                },\\n', '                {\\n', '                    \"name\": \"Constellation\"\\n', '                },\\n', '                {\\n', '                    \"name\": \"Constitution\"\\n', '                },\\n', '                {\\n', '                    \"name\": \"Courage\"\\n', '                },\\n', '                {\\n', '                    \"name\": \"Crossfield\"\\n', '                },\\n', '                {\\n', '                    \"name\": \"Curiosity\",\\n', '                    \"type\": \"Heavy Cruiser\"\\n', '                },\\n', '                {\\n', '                    \"name\": \"Curry\"\\n', '                },\\n', '                {\\n', '                    \"name\": \"Daedalus\"\\n', '                },\\n', '                {\\n', '                    \"name\": \"Danube\",\\n', '                    \"type\": \"Runabout\"\\n', '                },\\n', '                {\\n', '                    \"name\": \"Dauntless\"\\n', '                },\\n', '                {\\n', '                    \"name\": \"Defiant\",\\n', '                    \"type\": [\\n', '                        \"Escort\",\\n', '                        \"Warship\"\\n', '                    ]\\n', '                },\\n', '                {\\n', '                    \"name\": \"Dreadnought\"\\n', '                },\\n', '                {\\n', '                    \"name\": \"Eisenberg\"\\n', '                },\\n', '                {\\n', '                    \"name\": \"Engle\"\\n', '                },\\n', '                {\\n', '                    \"name\": \"Erewon\",\\n', '                    \"type\": \"Transport\"\\n', '                },\\n', '                {\\n', '                    \"name\": \"Excelsior\"\\n', '                },\\n', '                {\\n', '                    \"name\": \"Federation\",\\n', '                    \"type\": \"Dreadnought\"\\n', '                },\\n', '                {\\n', '                    \"name\": \"Freedom\"\\n', '                },\\n', '                {\\n', '                    \"name\": \"Friendship\"\\n', '                },\\n', '                {\\n', '                    \"name\": \"Galaxy\",\\n', '                    \"type\": \"Explorer\"\\n', '                },\\n', '                {\\n', '                    \"name\": \"Gagarin\"\\n', '                },\\n', '                {\\n', '                    \"name\": \"Hermes\",\\n', '                    \"type\": \"Scout\"\\n', '                },\\n', '                {\\n', '                    \"name\": \"Hoover\"\\n', '                },\\n', '                {\\n', '                    \"name\": \"Inquiry\",\\n', '                    \"type\": \"Heavy Cruiser\"\\n', '                },\\n', '                {\\n', '                    \"name\": \"Intrepid\"\\n', '                },\\n', '                {\\n', '                    \"name\": \"Korolev\"\\n', '                },\\n', '                {\\n', '                    \"name\": \"Lancelot\",\\n', '                    \"type\": \"Cruiser\"\\n', '                },\\n', '                {\\n', '                    \"name\": \"Luna\"\\n', '                },\\n', '                {\\n', '                    \"name\": \"Magee\"\\n', '                },\\n', '                {\\n', '                    \"name\": \"Malachowski\"\\n', '                },\\n', '                {\\n', '                    \"name\": \"Mars\"\\n', '                },\\n', '                {\\n', '                    \"name\": \"Merced\"\\n', '                },\\n', '                {\\n', '                    \"name\": \"Merian\"\\n', '                },\\n', '                {\\n', '                    \"name\": \"Miranda\",\\n', '                    \"type\": [\\n', '                        \"Science\",\\n', '                        \"Supply\"\\n', '                    ]\\n', '                },\\n', '                {\\n', '                    \"name\": \"Nebula\"\\n', '                },\\n', '                {\\n', '                    \"name\": \"New Orleans\",\\n', '                    \"type\": \"Frigate\"\\n', '                },\\n', '                {\\n', '                    \"name\": \"Niagara\"\\n', '                },\\n', '                {\\n', '                    \"name\": \"Nova\"\\n', '                },\\n', '                {\\n', '                    \"name\": \"Obena\"\\n', '                },\\n', '                {\\n', '                    \"name\": \"Oberth\",\\n', '                    \"type\": [\\n', '                        \"Scout\",\\n', '                        \"Science\",\\n', '                        \"Supply\",\\n', '                        \"Transport\"\\n', '                    ]\\n', '                },\\n', '                {\\n', '                    \"name\": \"Olympic\"\\n', '                },\\n', '                {\\n', '                    \"name\": \"Parliament\"\\n', '                },\\n', '                {\\n', '                    \"name\": \"Peregrine\"\\n', '                },\\n', '                {\\n', '                    \"name\": \"Prometheus\"\\n', '                },\\n', '                {\\n', '                    \"name\": \"Ptolemy\",\\n', '                    \"type\": \"Transport\"\\n', '                },\\n', '                {\\n', '                    \"name\": \"Radiant\"\\n', '                },\\n', '                {\\n', '                    \"name\": \"Renaissance\"\\n', '                },\\n', '                {\\n', '                    \"name\": \"Reliant\"\\n', '                },\\n', '                {\\n', '                    \"name\": \"Ross\"\\n', '                },\\n', '                {\\n', '                    \"name\": \"Saber\"\\n', '                },\\n', '                {\\n', '                    \"name\": \"Sagon\"\\n', '                },\\n', '                {\\n', '                    \"name\": \"Saladin\"\\n', '                },\\n', '                {\\n', '                    \"name\": \"Shepard\"\\n', '                },\\n', '                {\\n', '                    \"name\": \"Sombra\"\\n', '                },\\n', '                {\\n', '                    \"name\": \"Sovereign\"\\n', '                },\\n', '                {\\n', '                    \"name\": \"Soyuz\"\\n', '                },\\n', '                {\\n', '                    \"name\": \"Springfield\"\\n', '                },\\n', '                {\\n', '                    \"name\": \"Steamrunner\"\\n', '                },\\n', '                {\\n', '                    \"name\": \"Sutherland\"\\n', '                },\\n', '                {\\n', '                    \"name\": \"Sydney\",\\n', '                    \"type\": \"Transport\"\\n', '                },\\n', '                {\\n', '                    \"name\": \"Texas\",\\n', '                    \"type\": \"Automated\"\\n', '                },\\n', '                {\\n', '                    \"name\": \"Universe\"\\n', '                },\\n', '                {\\n', '                    \"name\": \"Walker\"\\n', '                },\\n', '                {\\n', '                    \"name\": \"Wallenberg\",\\n', '                    \"type\": \"Transport\"\\n', '                },\\n', '                {\\n', '                    \"name\": \"Wells\",\\n', '                    \"type\": \"Timeship\"\\n', '                },\\n', '                {\\n', '                    \"name\": \"Yellowstone\",\\n', '                    \"type\": \"Runabout\"\\n', '                }\\n', '            ]\\n', '        }\\n', '    }\\n', '}']\n"
     ]
    }
   ],
   "source": [
    "with open('Starship Classes.json', 'r') as f:\n",
    "    data = f.readlines()\n",
    "    \n",
    "print(data)"
   ]
  },
  {
   "cell_type": "code",
   "execution_count": 178,
   "id": "d293d668-4d03-4078-9822-f8c581091291",
   "metadata": {},
   "outputs": [
    {
     "name": "stdout",
     "output_type": "stream",
     "text": [
      "{'operator': {'Federation': [{'name': 'Akira', 'type': ''}, {'name': 'Ambassador', 'type': 'Heavy Cruiser'}, {'name': 'Angelou', 'type': ''}, {'name': 'Antares', 'type': ''}, {'name': 'Apollo', 'type': ''}, {'name': 'Armstrong', 'type': ''}, {'name': 'Bradbury', 'type': ''}, {'name': 'Cardenas', 'type': ''}, {'name': 'California', 'type': 'Support'}, {'name': 'Centaur', 'type': 'Destroyer'}, {'name': 'Challenger', 'type': ''}, {'name': 'Cheyenne', 'type': ''}, {'name': 'Constellation', 'type': ''}, {'name': 'Constitution', 'type': ''}, {'name': 'Courage', 'type': ''}, {'name': 'Crossfield', 'type': ''}, {'name': 'Curiosity', 'type': 'Heavy Cruiser'}, {'name': 'Curry', 'type': ''}, {'name': 'Daedalus', 'type': ''}, {'name': 'Danube', 'type': 'Runabout'}, {'name': 'Dauntless', 'type': ''}, {'name': 'Defiant', 'type': ['Escort', 'Warship']}, {'name': 'Dreadnought', 'type': ''}, {'name': 'Eisenberg', 'type': ''}, {'name': 'Engle', 'type': ''}, {'name': 'Erewon', 'type': 'Transport'}, {'name': 'Excelsior', 'type': ''}, {'name': 'Federation', 'type': 'Dreadnought'}, {'name': 'Freedom', 'type': ''}, {'name': 'Friendship', 'type': ''}, {'name': 'Galaxy', 'type': 'Explorer'}, {'name': 'Gagarin', 'type': ''}, {'name': 'Hermes', 'type': 'Scout'}, {'name': 'Hoover', 'type': ''}, {'name': 'Inquiry', 'type': 'Heavy Cruiser'}, {'name': 'Intrepid', 'type': ''}, {'name': 'Korolev', 'type': ''}, {'name': 'Lancelot', 'type': 'Cruiser'}, {'name': 'Luna', 'type': ''}, {'name': 'Magee', 'type': ''}, {'name': 'Malachowski', 'type': ''}, {'name': 'Mars', 'type': ''}, {'name': 'Merced', 'type': ''}, {'name': 'Merian', 'type': ''}, {'name': 'Miranda', 'type': ['Science', 'Supply']}, {'name': 'Nebula', 'type': ''}, {'name': 'New Orleans', 'type': 'Frigate'}, {'name': 'Niagara', 'type': ''}, {'name': 'Nova', 'type': ''}, {'name': 'Obena', 'type': ''}, {'name': 'Oberth', 'type': ['Scout', 'Science', 'Supply', 'Transport']}, {'name': 'Olympic', 'type': ''}, {'name': 'Parliament', 'type': ''}, {'name': 'Peregrine', 'type': ''}, {'name': 'Prometheus', 'type': ''}, {'name': 'Ptolemy', 'type': 'Transport'}, {'name': 'Radiant', 'type': ''}, {'name': 'Renaissance', 'type': ''}, {'name': 'Reliant', 'type': ''}, {'name': 'Ross', 'type': ''}, {'name': 'Saber', 'type': ''}, {'name': 'Sagon', 'type': ''}, {'name': 'Saladin', 'type': ''}, {'name': 'Shepard', 'type': ''}, {'name': 'Sombra', 'type': ''}, {'name': 'Sovereign', 'type': ''}, {'name': 'Soyuz', 'type': ''}, {'name': 'Springfield', 'type': ''}, {'name': 'Steamrunner', 'type': ''}, {'name': 'Sutherland', 'type': ''}, {'name': 'Sydney', 'type': 'Transport'}, {'name': 'Texas', 'type': 'Automated'}, {'name': 'Universe', 'type': ''}, {'name': 'Walker', 'type': ''}, {'name': 'Wallenberg', 'type': 'Transport'}, {'name': 'Wells', 'type': 'Timeship'}, {'name': 'Yellowstone', 'type': 'Runabout'}]}}\n"
     ]
    }
   ],
   "source": [
    "import json\n",
    "\n",
    "with open('Starship Classes.json', 'r') as f:\n",
    "    data = json.loads(f.read())\n",
    "    \n",
    "print(data)"
   ]
  },
  {
   "cell_type": "code",
   "execution_count": 195,
   "id": "ce16b1bc-1866-47e8-9a44-923876fe2052",
   "metadata": {},
   "outputs": [
    {
     "name": "stdout",
     "output_type": "stream",
     "text": [
      "77\n"
     ]
    }
   ],
   "source": [
    "import json\n",
    "\n",
    "with open('Starship Classes.json') as f:\n",
    "    data = json.loads(f.read())\n",
    "\n",
    "    \n",
    "print(len(data[\"operator\"][\"Federation\"]))"
   ]
  },
  {
   "cell_type": "code",
   "execution_count": 177,
   "id": "377152f8-ffe4-4ed8-81e6-ec5e9b1ebdc3",
   "metadata": {},
   "outputs": [
    {
     "name": "stdout",
     "output_type": "stream",
     "text": [
      "[{'name': 'Akira', 'type': ''}, {'name': 'Ambassador', 'type': 'Heavy Cruiser'}, {'name': 'Angelou', 'type': ''}, {'name': 'Antares', 'type': ''}, {'name': 'Apollo', 'type': ''}, {'name': 'Armstrong', 'type': ''}, {'name': 'Bradbury', 'type': ''}, {'name': 'Cardenas', 'type': ''}, {'name': 'California', 'type': 'Support'}, {'name': 'Centaur', 'type': 'Destroyer'}, {'name': 'Challenger', 'type': ''}, {'name': 'Cheyenne', 'type': ''}, {'name': 'Constellation', 'type': ''}, {'name': 'Constitution', 'type': ''}, {'name': 'Courage', 'type': ''}, {'name': 'Crossfield', 'type': ''}, {'name': 'Curiosity', 'type': 'Heavy Cruiser'}, {'name': 'Curry', 'type': ''}, {'name': 'Daedalus', 'type': ''}, {'name': 'Danube', 'type': 'Runabout'}, {'name': 'Dauntless', 'type': ''}, {'name': 'Defiant', 'type': ['Escort', 'Warship']}, {'name': 'Dreadnought', 'type': ''}, {'name': 'Eisenberg', 'type': ''}, {'name': 'Engle', 'type': ''}, {'name': 'Erewon', 'type': 'Transport'}, {'name': 'Excelsior', 'type': ''}, {'name': 'Federation', 'type': 'Dreadnought'}, {'name': 'Freedom', 'type': ''}, {'name': 'Friendship', 'type': ''}, {'name': 'Galaxy', 'type': 'Explorer'}, {'name': 'Gagarin', 'type': ''}, {'name': 'Hermes', 'type': 'Scout'}, {'name': 'Hoover', 'type': ''}, {'name': 'Inquiry', 'type': 'Heavy Cruiser'}, {'name': 'Intrepid', 'type': ''}, {'name': 'Korolev', 'type': ''}, {'name': 'Lancelot', 'type': 'Cruiser'}, {'name': 'Luna', 'type': ''}, {'name': 'Magee', 'type': ''}, {'name': 'Malachowski', 'type': ''}, {'name': 'Mars', 'type': ''}, {'name': 'Merced', 'type': ''}, {'name': 'Merian', 'type': ''}, {'name': 'Miranda', 'type': ['Science', 'Supply']}, {'name': 'Nebula', 'type': ''}, {'name': 'New Orleans', 'type': 'Frigate'}, {'name': 'Niagara', 'type': ''}, {'name': 'Nova', 'type': ''}, {'name': 'Obena', 'type': ''}, {'name': 'Oberth', 'type': ['Scout', 'Science', 'Supply', 'Transport']}, {'name': 'Olympic', 'type': ''}, {'name': 'Parliament', 'type': ''}, {'name': 'Peregrine', 'type': ''}, {'name': 'Prometheus', 'type': ''}, {'name': 'Ptolemy', 'type': 'Transport'}, {'name': 'Radiant', 'type': ''}, {'name': 'Renaissance', 'type': ''}, {'name': 'Reliant', 'type': ''}, {'name': 'Ross', 'type': ''}, {'name': 'Saber', 'type': ''}, {'name': 'Sagon', 'type': ''}, {'name': 'Saladin', 'type': ''}, {'name': 'Shepard', 'type': ''}, {'name': 'Sombra', 'type': ''}, {'name': 'Sovereign', 'type': ''}, {'name': 'Soyuz', 'type': ''}, {'name': 'Springfield', 'type': ''}, {'name': 'Steamrunner', 'type': ''}, {'name': 'Sutherland', 'type': ''}, {'name': 'Sydney', 'type': 'Transport'}, {'name': 'Texas', 'type': 'Automated'}, {'name': 'Universe', 'type': ''}, {'name': 'Walker', 'type': ''}, {'name': 'Wallenberg', 'type': 'Transport'}, {'name': 'Wells', 'type': 'Timeship'}, {'name': 'Yellowstone', 'type': 'Runabout'}]\n"
     ]
    }
   ],
   "source": [
    "import json\n",
    "\n",
    "with open('Starship Classes.json') as f:\n",
    "    data = json.loads(f.read())\n",
    "    \n",
    "print(data[\"operator\"][\"Federation\"])"
   ]
  },
  {
   "cell_type": "code",
   "execution_count": 176,
   "id": "0870bcad-c91a-4e78-98ab-d0cd4480b107",
   "metadata": {},
   "outputs": [
    {
     "name": "stdout",
     "output_type": "stream",
     "text": [
      "{'name': 'Akira', 'type': ''}\n",
      "{'name': 'Ambassador', 'type': 'Heavy Cruiser'}\n",
      "{'name': 'Angelou', 'type': ''}\n",
      "{'name': 'Antares', 'type': ''}\n",
      "{'name': 'Apollo', 'type': ''}\n",
      "{'name': 'Armstrong', 'type': ''}\n",
      "{'name': 'Bradbury', 'type': ''}\n",
      "{'name': 'Cardenas', 'type': ''}\n",
      "{'name': 'California', 'type': 'Support'}\n",
      "{'name': 'Centaur', 'type': 'Destroyer'}\n",
      "{'name': 'Challenger', 'type': ''}\n",
      "{'name': 'Cheyenne', 'type': ''}\n",
      "{'name': 'Constellation', 'type': ''}\n",
      "{'name': 'Constitution', 'type': ''}\n",
      "{'name': 'Courage', 'type': ''}\n",
      "{'name': 'Crossfield', 'type': ''}\n",
      "{'name': 'Curiosity', 'type': 'Heavy Cruiser'}\n",
      "{'name': 'Curry', 'type': ''}\n",
      "{'name': 'Daedalus', 'type': ''}\n",
      "{'name': 'Danube', 'type': 'Runabout'}\n",
      "{'name': 'Dauntless', 'type': ''}\n",
      "{'name': 'Defiant', 'type': ['Escort', 'Warship']}\n",
      "{'name': 'Dreadnought', 'type': ''}\n",
      "{'name': 'Eisenberg', 'type': ''}\n",
      "{'name': 'Engle', 'type': ''}\n",
      "{'name': 'Erewon', 'type': 'Transport'}\n",
      "{'name': 'Excelsior', 'type': ''}\n",
      "{'name': 'Federation', 'type': 'Dreadnought'}\n",
      "{'name': 'Freedom', 'type': ''}\n",
      "{'name': 'Friendship', 'type': ''}\n",
      "{'name': 'Galaxy', 'type': 'Explorer'}\n",
      "{'name': 'Gagarin', 'type': ''}\n",
      "{'name': 'Hermes', 'type': 'Scout'}\n",
      "{'name': 'Hoover', 'type': ''}\n",
      "{'name': 'Inquiry', 'type': 'Heavy Cruiser'}\n",
      "{'name': 'Intrepid', 'type': ''}\n",
      "{'name': 'Korolev', 'type': ''}\n",
      "{'name': 'Lancelot', 'type': 'Cruiser'}\n",
      "{'name': 'Luna', 'type': ''}\n",
      "{'name': 'Magee', 'type': ''}\n",
      "{'name': 'Malachowski', 'type': ''}\n",
      "{'name': 'Mars', 'type': ''}\n",
      "{'name': 'Merced', 'type': ''}\n",
      "{'name': 'Merian', 'type': ''}\n",
      "{'name': 'Miranda', 'type': ['Science', 'Supply']}\n",
      "{'name': 'Nebula', 'type': ''}\n",
      "{'name': 'New Orleans', 'type': 'Frigate'}\n",
      "{'name': 'Niagara', 'type': ''}\n",
      "{'name': 'Nova', 'type': ''}\n",
      "{'name': 'Obena', 'type': ''}\n",
      "{'name': 'Oberth', 'type': ['Scout', 'Science', 'Supply', 'Transport']}\n",
      "{'name': 'Olympic', 'type': ''}\n",
      "{'name': 'Parliament', 'type': ''}\n",
      "{'name': 'Peregrine', 'type': ''}\n",
      "{'name': 'Prometheus', 'type': ''}\n",
      "{'name': 'Ptolemy', 'type': 'Transport'}\n",
      "{'name': 'Radiant', 'type': ''}\n",
      "{'name': 'Renaissance', 'type': ''}\n",
      "{'name': 'Reliant', 'type': ''}\n",
      "{'name': 'Ross', 'type': ''}\n",
      "{'name': 'Saber', 'type': ''}\n",
      "{'name': 'Sagon', 'type': ''}\n",
      "{'name': 'Saladin', 'type': ''}\n",
      "{'name': 'Shepard', 'type': ''}\n",
      "{'name': 'Sombra', 'type': ''}\n",
      "{'name': 'Sovereign', 'type': ''}\n",
      "{'name': 'Soyuz', 'type': ''}\n",
      "{'name': 'Springfield', 'type': ''}\n",
      "{'name': 'Steamrunner', 'type': ''}\n",
      "{'name': 'Sutherland', 'type': ''}\n",
      "{'name': 'Sydney', 'type': 'Transport'}\n",
      "{'name': 'Texas', 'type': 'Automated'}\n",
      "{'name': 'Universe', 'type': ''}\n",
      "{'name': 'Walker', 'type': ''}\n",
      "{'name': 'Wallenberg', 'type': 'Transport'}\n",
      "{'name': 'Wells', 'type': 'Timeship'}\n",
      "{'name': 'Yellowstone', 'type': 'Runabout'}\n"
     ]
    }
   ],
   "source": [
    "import json\n",
    "\n",
    "with open('Starship Classes.json') as f:\n",
    "    data = json.loads(f.read())\n",
    "    \n",
    "for starship_class in data[\"operator\"][\"Federation\"]:\n",
    "    print(starship_class)"
   ]
  },
  {
   "cell_type": "code",
   "execution_count": 175,
   "id": "e48f6216-9f93-42ab-9e5c-4c990ee0a12b",
   "metadata": {},
   "outputs": [
    {
     "name": "stdout",
     "output_type": "stream",
     "text": [
      "Akira ()\n",
      "Ambassador (Heavy Cruiser)\n",
      "Angelou ()\n",
      "Antares ()\n",
      "Apollo ()\n",
      "Armstrong ()\n",
      "Bradbury ()\n",
      "Cardenas ()\n",
      "California (Support)\n",
      "Centaur (Destroyer)\n",
      "Challenger ()\n",
      "Cheyenne ()\n",
      "Constellation ()\n",
      "Constitution ()\n",
      "Courage ()\n",
      "Crossfield ()\n",
      "Curiosity (Heavy Cruiser)\n",
      "Curry ()\n",
      "Daedalus ()\n",
      "Danube (Runabout)\n",
      "Dauntless ()\n",
      "Defiant (['Escort', 'Warship'])\n",
      "Dreadnought ()\n",
      "Eisenberg ()\n",
      "Engle ()\n",
      "Erewon (Transport)\n",
      "Excelsior ()\n",
      "Federation (Dreadnought)\n",
      "Freedom ()\n",
      "Friendship ()\n",
      "Galaxy (Explorer)\n",
      "Gagarin ()\n",
      "Hermes (Scout)\n",
      "Hoover ()\n",
      "Inquiry (Heavy Cruiser)\n",
      "Intrepid ()\n",
      "Korolev ()\n",
      "Lancelot (Cruiser)\n",
      "Luna ()\n",
      "Magee ()\n",
      "Malachowski ()\n",
      "Mars ()\n",
      "Merced ()\n",
      "Merian ()\n",
      "Miranda (['Science', 'Supply'])\n",
      "Nebula ()\n",
      "New Orleans (Frigate)\n",
      "Niagara ()\n",
      "Nova ()\n",
      "Obena ()\n",
      "Oberth (['Scout', 'Science', 'Supply', 'Transport'])\n",
      "Olympic ()\n",
      "Parliament ()\n",
      "Peregrine ()\n",
      "Prometheus ()\n",
      "Ptolemy (Transport)\n",
      "Radiant ()\n",
      "Renaissance ()\n",
      "Reliant ()\n",
      "Ross ()\n",
      "Saber ()\n",
      "Sagon ()\n",
      "Saladin ()\n",
      "Shepard ()\n",
      "Sombra ()\n",
      "Sovereign ()\n",
      "Soyuz ()\n",
      "Springfield ()\n",
      "Steamrunner ()\n",
      "Sutherland ()\n",
      "Sydney (Transport)\n",
      "Texas (Automated)\n",
      "Universe ()\n",
      "Walker ()\n",
      "Wallenberg (Transport)\n",
      "Wells (Timeship)\n",
      "Yellowstone (Runabout)\n"
     ]
    }
   ],
   "source": [
    "import json\n",
    "\n",
    "with open('Starship Classes.json') as f:\n",
    "    data = json.loads(f.read())\n",
    "\n",
    "    \n",
    "for starship_class in data[\"operator\"][\"Federation\"]:\n",
    "    class_name = starship_class[\"name\"]\n",
    "    class_type = starship_class[\"type\"]\n",
    "    \n",
    "    print(f\"{class_name} ({class_type})\")"
   ]
  },
  {
   "cell_type": "code",
   "execution_count": 179,
   "id": "17c20108-c8ab-4198-ac52-01a7f33a3fa6",
   "metadata": {},
   "outputs": [
    {
     "name": "stdout",
     "output_type": "stream",
     "text": [
      "Akira\n",
      "Ambassador (Heavy Cruiser)\n",
      "Angelou\n",
      "Antares\n",
      "Apollo\n",
      "Armstrong\n",
      "Bradbury\n",
      "Cardenas\n",
      "California (Support)\n",
      "Centaur (Destroyer)\n",
      "Challenger\n",
      "Cheyenne\n",
      "Constellation\n",
      "Constitution\n",
      "Courage\n",
      "Crossfield\n",
      "Curiosity (Heavy Cruiser)\n",
      "Curry\n",
      "Daedalus\n",
      "Danube (Runabout)\n",
      "Dauntless\n",
      "Defiant (['Escort', 'Warship'])\n",
      "Dreadnought\n",
      "Eisenberg\n",
      "Engle\n",
      "Erewon (Transport)\n",
      "Excelsior\n",
      "Federation (Dreadnought)\n",
      "Freedom\n",
      "Friendship\n",
      "Galaxy (Explorer)\n",
      "Gagarin\n",
      "Hermes (Scout)\n",
      "Hoover\n",
      "Inquiry (Heavy Cruiser)\n",
      "Intrepid\n",
      "Korolev\n",
      "Lancelot (Cruiser)\n",
      "Luna\n",
      "Magee\n",
      "Malachowski\n",
      "Mars\n",
      "Merced\n",
      "Merian\n",
      "Miranda (['Science', 'Supply'])\n",
      "Nebula\n",
      "New Orleans (Frigate)\n",
      "Niagara\n",
      "Nova\n",
      "Obena\n",
      "Oberth (['Scout', 'Science', 'Supply', 'Transport'])\n",
      "Olympic\n",
      "Parliament\n",
      "Peregrine\n",
      "Prometheus\n",
      "Ptolemy (Transport)\n",
      "Radiant\n",
      "Renaissance\n",
      "Reliant\n",
      "Ross\n",
      "Saber\n",
      "Sagon\n",
      "Saladin\n",
      "Shepard\n",
      "Sombra\n",
      "Sovereign\n",
      "Soyuz\n",
      "Springfield\n",
      "Steamrunner\n",
      "Sutherland\n",
      "Sydney (Transport)\n",
      "Texas (Automated)\n",
      "Universe\n",
      "Walker\n",
      "Wallenberg (Transport)\n",
      "Wells (Timeship)\n",
      "Yellowstone (Runabout)\n"
     ]
    }
   ],
   "source": [
    "import json\n",
    "\n",
    "with open('Starship Classes.json') as f:\n",
    "    data = json.loads(f.read())\n",
    "\n",
    "    \n",
    "for starship_class in data[\"operator\"][\"Federation\"]:\n",
    "    class_name = starship_class[\"name\"]\n",
    "    class_type = starship_class[\"type\"]\n",
    "    \n",
    "    if class_type:\n",
    "        print(f\"{class_name} ({class_type})\")\n",
    "    else:\n",
    "        print(f\"{class_name}\")"
   ]
  },
  {
   "cell_type": "code",
   "execution_count": 189,
   "id": "d6fa64ed-4717-419d-ab84-51d0f84bfbc5",
   "metadata": {},
   "outputs": [],
   "source": [
    "import json\n",
    "\n",
    "with open('Starship Classes.json') as f:\n",
    "    data = json.loads(f.read())\n",
    "\n",
    "    \n",
    "for starship_class in data[\"operator\"][\"Federation\"]:\n",
    "    class_name = starship_class[\"name\"]\n",
    "    class_type = starship_class[\"type\"]\n",
    "    \n",
    "    if class_type == \"Science\":\n",
    "        print(f\"{class_name}\")"
   ]
  },
  {
   "cell_type": "code",
   "execution_count": 196,
   "id": "c64894c1-32ed-4c75-a78d-6ddf49d8c61d",
   "metadata": {},
   "outputs": [
    {
     "name": "stdout",
     "output_type": "stream",
     "text": [
      "Miranda\n",
      "Oberth\n"
     ]
    }
   ],
   "source": [
    "import json\n",
    "\n",
    "with open('Starship Classes.json') as f:\n",
    "    data = json.loads(f.read())\n",
    "\n",
    "    \n",
    "for starship_class in data[\"operator\"][\"Federation\"]:\n",
    "    class_name = starship_class[\"name\"]\n",
    "    class_type = starship_class[\"type\"]\n",
    "    \n",
    "    if \"Science\" in class_type:\n",
    "        print(f\"{class_name}\")"
   ]
  },
  {
   "cell_type": "code",
   "execution_count": 205,
   "id": "836476d4-6a6a-43db-8844-212878eee6f7",
   "metadata": {},
   "outputs": [
    {
     "name": "stdout",
     "output_type": "stream",
     "text": [
      "[{'name': 'Galaxy', 'type': 'Explorer'}]\n"
     ]
    }
   ],
   "source": [
    "import json\n",
    "\n",
    "with open('Starship Classes.json') as f:\n",
    "    data = json.loads(f.read())\n",
    "\n",
    "    \n",
    "print(list(filter(lambda x:x[\"name\"] == \"Galaxy\", data['operator']['Federation'])))"
   ]
  },
  {
   "cell_type": "code",
   "execution_count": null,
   "id": "fa7e9f33-039d-4e89-b093-e33b08f52234",
   "metadata": {},
   "outputs": [],
   "source": []
  }
 ],
 "metadata": {
  "kernelspec": {
   "display_name": "Python 3 (ipykernel)",
   "language": "python",
   "name": "python3"
  },
  "language_info": {
   "codemirror_mode": {
    "name": "ipython",
    "version": 3
   },
   "file_extension": ".py",
   "mimetype": "text/x-python",
   "name": "python",
   "nbconvert_exporter": "python",
   "pygments_lexer": "ipython3",
   "version": "3.9.13"
  }
 },
 "nbformat": 4,
 "nbformat_minor": 5
}
